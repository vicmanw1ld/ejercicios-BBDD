{
  "nbformat": 4,
  "nbformat_minor": 0,
  "metadata": {
    "colab": {
      "provenance": [],
      "authorship_tag": "ABX9TyM3rzodVAGawV+cFxvZTEqi",
      "include_colab_link": true
    },
    "kernelspec": {
      "name": "python3",
      "display_name": "Python 3"
    },
    "language_info": {
      "name": "python"
    }
  },
  "cells": [
    {
      "cell_type": "markdown",
      "metadata": {
        "id": "view-in-github",
        "colab_type": "text"
      },
      "source": [
        "<a href=\"https://colab.research.google.com/github/vicmanw1ld/ejercicios-BBDD/blob/main/introduccion_NUMPY.ipynb\" target=\"_parent\"><img src=\"https://colab.research.google.com/assets/colab-badge.svg\" alt=\"Open In Colab\"/></a>"
      ]
    },
    {
      "cell_type": "code",
      "execution_count": 12,
      "metadata": {
        "colab": {
          "base_uri": "https://localhost:8080/"
        },
        "id": "b868Md4Cc48q",
        "outputId": "0a3763dd-4fb2-49c1-cb73-6cc7f3963917"
      },
      "outputs": [
        {
          "output_type": "execute_result",
          "data": {
            "text/plain": [
              "8"
            ]
          },
          "metadata": {},
          "execution_count": 12
        }
      ],
      "source": [
        "import numpy as np\n",
        "\n",
        "a = np.zeros((2, 4))\n",
        "\n",
        "a\n",
        "\n",
        "\n",
        "a.size"
      ]
    },
    {
      "cell_type": "code",
      "source": [
        "a.shape\n"
      ],
      "metadata": {
        "colab": {
          "base_uri": "https://localhost:8080/"
        },
        "id": "26Hbbp_1ey4j",
        "outputId": "10838556-14ea-4660-b38d-f44ac4d07e20"
      },
      "execution_count": 13,
      "outputs": [
        {
          "output_type": "execute_result",
          "data": {
            "text/plain": [
              "(2, 4)"
            ]
          },
          "metadata": {},
          "execution_count": 13
        }
      ]
    },
    {
      "cell_type": "code",
      "source": [
        "a.ndim"
      ],
      "metadata": {
        "colab": {
          "base_uri": "https://localhost:8080/"
        },
        "id": "ZLOMaeA7fbng",
        "outputId": "f3d15328-d798-472d-bb75-0831e3422e0f"
      },
      "execution_count": 14,
      "outputs": [
        {
          "output_type": "execute_result",
          "data": {
            "text/plain": [
              "2"
            ]
          },
          "metadata": {},
          "execution_count": 14
        }
      ]
    },
    {
      "cell_type": "code",
      "source": [
        "# Array cuyos valores son todos 0\n",
        "np.zeros((2, 3, 4))"
      ],
      "metadata": {
        "colab": {
          "base_uri": "https://localhost:8080/"
        },
        "id": "thEcKohCfozE",
        "outputId": "fcc69c53-5a6f-4a9a-868a-2551fa86794a"
      },
      "execution_count": 15,
      "outputs": [
        {
          "output_type": "execute_result",
          "data": {
            "text/plain": [
              "array([[[0., 0., 0., 0.],\n",
              "        [0., 0., 0., 0.],\n",
              "        [0., 0., 0., 0.]],\n",
              "\n",
              "       [[0., 0., 0., 0.],\n",
              "        [0., 0., 0., 0.],\n",
              "        [0., 0., 0., 0.]]])"
            ]
          },
          "metadata": {},
          "execution_count": 15
        }
      ]
    },
    {
      "cell_type": "code",
      "source": [
        "# Array cuyos valores son todos 1\n",
        "np.ones((2, 3, 4))"
      ],
      "metadata": {
        "colab": {
          "base_uri": "https://localhost:8080/"
        },
        "id": "xcwg7Ev2fqpA",
        "outputId": "6dd318e4-2607-45a3-fbac-f5352976b11f"
      },
      "execution_count": 16,
      "outputs": [
        {
          "output_type": "execute_result",
          "data": {
            "text/plain": [
              "array([[[1., 1., 1., 1.],\n",
              "        [1., 1., 1., 1.],\n",
              "        [1., 1., 1., 1.]],\n",
              "\n",
              "       [[1., 1., 1., 1.],\n",
              "        [1., 1., 1., 1.],\n",
              "        [1., 1., 1., 1.]]])"
            ]
          },
          "metadata": {},
          "execution_count": 16
        }
      ]
    },
    {
      "cell_type": "code",
      "source": [
        "# Array cuyos valores son todos el valor indicado como segundo parámetro de la función\n",
        "np.full((2, 3, 4), 8) # El 8 es el valor que le das por defecto"
      ],
      "metadata": {
        "colab": {
          "base_uri": "https://localhost:8080/"
        },
        "id": "nqmN3GxAheAB",
        "outputId": "677b19d8-4405-4aba-fc35-1942ae4bb9c1"
      },
      "execution_count": 17,
      "outputs": [
        {
          "output_type": "execute_result",
          "data": {
            "text/plain": [
              "array([[[8, 8, 8, 8],\n",
              "        [8, 8, 8, 8],\n",
              "        [8, 8, 8, 8]],\n",
              "\n",
              "       [[8, 8, 8, 8],\n",
              "        [8, 8, 8, 8],\n",
              "        [8, 8, 8, 8]]])"
            ]
          },
          "metadata": {},
          "execution_count": 17
        }
      ]
    },
    {
      "cell_type": "code",
      "source": [
        "# El resultado de np.empty no es predecible\n",
        "# Inicializa los valores del array con lo que haya en memoria en ese momento\n",
        "np.empty((2, 3, 9))"
      ],
      "metadata": {
        "colab": {
          "base_uri": "https://localhost:8080/"
        },
        "id": "7Kxzy7Nehovd",
        "outputId": "322076c5-9b71-4e49-83b5-df4474acb500"
      },
      "execution_count": 18,
      "outputs": [
        {
          "output_type": "execute_result",
          "data": {
            "text/plain": [
              "array([[[3.15820261e-315, 0.00000000e+000, 6.79823792e-310,\n",
              "         4.47543482e+217, 6.80648771e+199, 6.19406593e+223,\n",
              "         1.99108547e+209, 3.76476751e-085, 1.14406376e+243],\n",
              "        [1.95918563e-027, 1.05923054e-153, 3.60241447e+252,\n",
              "         1.62691065e+219, 6.36058239e+151, 1.05894327e-153,\n",
              "         5.03887208e+175, 1.53044312e-094, 3.16046395e+180],\n",
              "        [7.26588105e+223, 7.29537362e+175, 1.97278832e-153,\n",
              "         5.97185003e+175, 4.55816195e+257, 2.20892690e+161,\n",
              "         2.64512473e+185, 2.93305690e+222, 1.43616552e+161]],\n",
              "\n",
              "       [[1.89130245e+219, 3.99461109e+252, 1.90649515e+185,\n",
              "         5.04533203e+223, 1.06209545e+248, 8.02675125e-095,\n",
              "         2.11336376e+214, 1.89122267e+219, 1.96097649e+243],\n",
              "        [9.10016856e+276, 3.57722603e-057, 1.78935926e+161,\n",
              "         1.96841819e-153, 4.18001791e+175, 1.28897780e+248,\n",
              "         8.18434960e-085, 4.50381864e+132, 1.49347735e+214],\n",
              "        [9.45869679e-154, 9.53728330e-307, 3.91701626e-027,\n",
              "         3.57755833e+160, 7.10569206e+159, 6.08709905e+247,\n",
              "         1.89122267e+219, 1.96097649e+243, 9.10016856e+276]]])"
            ]
          },
          "metadata": {},
          "execution_count": 18
        }
      ]
    }
  ]
}